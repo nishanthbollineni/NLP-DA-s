{
  "nbformat": 4,
  "nbformat_minor": 0,
  "metadata": {
    "colab": {
      "name": "DA 2 .ipynb",
      "provenance": []
    },
    "kernelspec": {
      "name": "python3",
      "display_name": "Python 3"
    },
    "language_info": {
      "name": "python"
    }
  },
  "cells": [
    {
      "cell_type": "code",
      "execution_count": 17,
      "metadata": {
        "colab": {
          "base_uri": "https://localhost:8080/"
        },
        "id": "MbNO6V8w5g3U",
        "outputId": "d058d329-55f2-4190-fceb-21ad58e8f33e"
      },
      "outputs": [
        {
          "output_type": "stream",
          "name": "stderr",
          "text": [
            "[nltk_data] Downloading package punkt to /root/nltk_data...\n",
            "[nltk_data]   Package punkt is already up-to-date!\n",
            "[nltk_data] Downloading package averaged_perceptron_tagger to\n",
            "[nltk_data]     /root/nltk_data...\n",
            "[nltk_data]   Package averaged_perceptron_tagger is already up-to-\n",
            "[nltk_data]       date!\n",
            "[nltk_data] Downloading package brown to /root/nltk_data...\n",
            "[nltk_data]   Package brown is already up-to-date!\n",
            "[nltk_data] Downloading package wordnet to /root/nltk_data...\n",
            "[nltk_data]   Package wordnet is already up-to-date!\n",
            "[nltk_data] Downloading package omw-1.4 to /root/nltk_data...\n",
            "[nltk_data]   Package omw-1.4 is already up-to-date!\n",
            "[nltk_data] Downloading package stopwords to /root/nltk_data...\n",
            "[nltk_data]   Package stopwords is already up-to-date!\n"
          ]
        }
      ],
      "source": [
        "import nltk\n",
        "nltk.download('punkt')\n",
        "nltk.download('averaged_perceptron_tagger')\n",
        "nltk.download('brown')\n",
        "nltk.download('wordnet')\n",
        "nltk.download('omw-1.4')\n",
        "nltk.download('stopwords')\n",
        "import pandas as pd"
      ]
    },
    {
      "cell_type": "code",
      "source": [
        "text='''Nara Chandrababu Naidu  is an Indian politician and current leader of opposition in the Andhra Pradesh Legislative Assembly. He is a former Chief Minister of Andhra Pradesh, serving from 2014 to 2019. He is the first Chief Minister of Andhra Pradesh after it was divided. Previously, he served as the Chief Minister of Andhra Pradesh from 1995 to 2004, before the state's division, and as the leader of the opposition in the united Andhra Pradesh Legislative Assembly from 2004 to 2014. He is the National President of the Telugu Desam Party (TDP), and the longest-serving Chief Minister (14 years in office) of Andhra Pradesh. Naidu has won a number of awards, including IT Indian of the Millennium from India Today, Business Person of the Year by The Economic Times, South Asian of the Year from Time Asia and membership in the World Economic Forum's Dream Cabinet. Naidu chaired the National IT Panel under the National Democratic Alliance (India) (NDA) government and was described as one of the \"hidden seven\" working wonders of the world by Profit (Oracle Corporation's monthly magazine). Naidu was offered an honorary professorship by US business school - the Kellogg School of Management in 2000. He was the Chairman of National Task Force on Micro-irrigation from Government of India, Ministry of Agriculture in 2003. He was the head of 13-member Committee of Chief Ministers to promote digital payment systems and financial inclusion in India which was constituted by federal government in 2016'''\n",
        "\n",
        "text"
      ],
      "metadata": {
        "colab": {
          "base_uri": "https://localhost:8080/",
          "height": 123
        },
        "id": "NQFLZ-e_5tDz",
        "outputId": "feab51e5-d3a6-4b82-9b0b-7d6bfcdd3ff7"
      },
      "execution_count": 18,
      "outputs": [
        {
          "output_type": "execute_result",
          "data": {
            "text/plain": [
              "'Nara Chandrababu Naidu  is an Indian politician and current leader of opposition in the Andhra Pradesh Legislative Assembly. He is a former Chief Minister of Andhra Pradesh, serving from 2014 to 2019. He is the first Chief Minister of Andhra Pradesh after it was divided. Previously, he served as the Chief Minister of Andhra Pradesh from 1995 to 2004, before the state\\'s division, and as the leader of the opposition in the united Andhra Pradesh Legislative Assembly from 2004 to 2014. He is the National President of the Telugu Desam Party (TDP), and the longest-serving Chief Minister (14 years in office) of Andhra Pradesh. Naidu has won a number of awards, including IT Indian of the Millennium from India Today, Business Person of the Year by The Economic Times, South Asian of the Year from Time Asia and membership in the World Economic Forum\\'s Dream Cabinet. Naidu chaired the National IT Panel under the National Democratic Alliance (India) (NDA) government and was described as one of the \"hidden seven\" working wonders of the world by Profit (Oracle Corporation\\'s monthly magazine). Naidu was offered an honorary professorship by US business school - the Kellogg School of Management in 2000. He was the Chairman of National Task Force on Micro-irrigation from Government of India, Ministry of Agriculture in 2003. He was the head of 13-member Committee of Chief Ministers to promote digital payment systems and financial inclusion in India which was constituted by federal government in 2016'"
            ],
            "application/vnd.google.colaboratory.intrinsic+json": {
              "type": "string"
            }
          },
          "metadata": {},
          "execution_count": 18
        }
      ]
    },
    {
      "cell_type": "code",
      "source": [
        "from nltk.tokenize import word_tokenize\n",
        "wordsList = word_tokenize(text)\n",
        "print(wordsList)\n"
      ],
      "metadata": {
        "colab": {
          "base_uri": "https://localhost:8080/"
        },
        "id": "_nxDu9qx5tRn",
        "outputId": "5e04274f-f2f4-4916-e7d6-f6f8a75ecb6c"
      },
      "execution_count": 19,
      "outputs": [
        {
          "output_type": "stream",
          "name": "stdout",
          "text": [
            "['Nara', 'Chandrababu', 'Naidu', 'is', 'an', 'Indian', 'politician', 'and', 'current', 'leader', 'of', 'opposition', 'in', 'the', 'Andhra', 'Pradesh', 'Legislative', 'Assembly', '.', 'He', 'is', 'a', 'former', 'Chief', 'Minister', 'of', 'Andhra', 'Pradesh', ',', 'serving', 'from', '2014', 'to', '2019', '.', 'He', 'is', 'the', 'first', 'Chief', 'Minister', 'of', 'Andhra', 'Pradesh', 'after', 'it', 'was', 'divided', '.', 'Previously', ',', 'he', 'served', 'as', 'the', 'Chief', 'Minister', 'of', 'Andhra', 'Pradesh', 'from', '1995', 'to', '2004', ',', 'before', 'the', 'state', \"'s\", 'division', ',', 'and', 'as', 'the', 'leader', 'of', 'the', 'opposition', 'in', 'the', 'united', 'Andhra', 'Pradesh', 'Legislative', 'Assembly', 'from', '2004', 'to', '2014', '.', 'He', 'is', 'the', 'National', 'President', 'of', 'the', 'Telugu', 'Desam', 'Party', '(', 'TDP', ')', ',', 'and', 'the', 'longest-serving', 'Chief', 'Minister', '(', '14', 'years', 'in', 'office', ')', 'of', 'Andhra', 'Pradesh', '.', 'Naidu', 'has', 'won', 'a', 'number', 'of', 'awards', ',', 'including', 'IT', 'Indian', 'of', 'the', 'Millennium', 'from', 'India', 'Today', ',', 'Business', 'Person', 'of', 'the', 'Year', 'by', 'The', 'Economic', 'Times', ',', 'South', 'Asian', 'of', 'the', 'Year', 'from', 'Time', 'Asia', 'and', 'membership', 'in', 'the', 'World', 'Economic', 'Forum', \"'s\", 'Dream', 'Cabinet', '.', 'Naidu', 'chaired', 'the', 'National', 'IT', 'Panel', 'under', 'the', 'National', 'Democratic', 'Alliance', '(', 'India', ')', '(', 'NDA', ')', 'government', 'and', 'was', 'described', 'as', 'one', 'of', 'the', '``', 'hidden', 'seven', \"''\", 'working', 'wonders', 'of', 'the', 'world', 'by', 'Profit', '(', 'Oracle', 'Corporation', \"'s\", 'monthly', 'magazine', ')', '.', 'Naidu', 'was', 'offered', 'an', 'honorary', 'professorship', 'by', 'US', 'business', 'school', '-', 'the', 'Kellogg', 'School', 'of', 'Management', 'in', '2000', '.', 'He', 'was', 'the', 'Chairman', 'of', 'National', 'Task', 'Force', 'on', 'Micro-irrigation', 'from', 'Government', 'of', 'India', ',', 'Ministry', 'of', 'Agriculture', 'in', '2003', '.', 'He', 'was', 'the', 'head', 'of', '13-member', 'Committee', 'of', 'Chief', 'Ministers', 'to', 'promote', 'digital', 'payment', 'systems', 'and', 'financial', 'inclusion', 'in', 'India', 'which', 'was', 'constituted', 'by', 'federal', 'government', 'in', '2016']\n"
          ]
        }
      ]
    },
    {
      "cell_type": "code",
      "source": [
        "sent_tokenizer = nltk.data.load('tokenizers/punkt/english.pickle')\n",
        "sents = sent_tokenizer.tokenize(text)\n",
        "sents"
      ],
      "metadata": {
        "colab": {
          "base_uri": "https://localhost:8080/"
        },
        "id": "Tcnw0yck5tVr",
        "outputId": "f4ce3e18-0129-4fc4-8a5f-04b9a8933d59"
      },
      "execution_count": 20,
      "outputs": [
        {
          "output_type": "execute_result",
          "data": {
            "text/plain": [
              "['Nara Chandrababu Naidu  is an Indian politician and current leader of opposition in the Andhra Pradesh Legislative Assembly.',\n",
              " 'He is a former Chief Minister of Andhra Pradesh, serving from 2014 to 2019.',\n",
              " 'He is the first Chief Minister of Andhra Pradesh after it was divided.',\n",
              " \"Previously, he served as the Chief Minister of Andhra Pradesh from 1995 to 2004, before the state's division, and as the leader of the opposition in the united Andhra Pradesh Legislative Assembly from 2004 to 2014.\",\n",
              " 'He is the National President of the Telugu Desam Party (TDP), and the longest-serving Chief Minister (14 years in office) of Andhra Pradesh.',\n",
              " \"Naidu has won a number of awards, including IT Indian of the Millennium from India Today, Business Person of the Year by The Economic Times, South Asian of the Year from Time Asia and membership in the World Economic Forum's Dream Cabinet.\",\n",
              " 'Naidu chaired the National IT Panel under the National Democratic Alliance (India) (NDA) government and was described as one of the \"hidden seven\" working wonders of the world by Profit (Oracle Corporation\\'s monthly magazine).',\n",
              " 'Naidu was offered an honorary professorship by US business school - the Kellogg School of Management in 2000.',\n",
              " 'He was the Chairman of National Task Force on Micro-irrigation from Government of India, Ministry of Agriculture in 2003.',\n",
              " 'He was the head of 13-member Committee of Chief Ministers to promote digital payment systems and financial inclusion in India which was constituted by federal government in 2016']"
            ]
          },
          "metadata": {},
          "execution_count": 20
        }
      ]
    },
    {
      "cell_type": "code",
      "source": [
        "from nltk.tokenize import sent_tokenize\n",
        "print(sent_tokenize(text))"
      ],
      "metadata": {
        "colab": {
          "base_uri": "https://localhost:8080/"
        },
        "id": "iw_ElWN25tca",
        "outputId": "29dc2f6e-64b3-42f5-d728-f5655f1186f4"
      },
      "execution_count": 21,
      "outputs": [
        {
          "output_type": "stream",
          "name": "stdout",
          "text": [
            "['Nara Chandrababu Naidu  is an Indian politician and current leader of opposition in the Andhra Pradesh Legislative Assembly.', 'He is a former Chief Minister of Andhra Pradesh, serving from 2014 to 2019.', 'He is the first Chief Minister of Andhra Pradesh after it was divided.', \"Previously, he served as the Chief Minister of Andhra Pradesh from 1995 to 2004, before the state's division, and as the leader of the opposition in the united Andhra Pradesh Legislative Assembly from 2004 to 2014.\", 'He is the National President of the Telugu Desam Party (TDP), and the longest-serving Chief Minister (14 years in office) of Andhra Pradesh.', \"Naidu has won a number of awards, including IT Indian of the Millennium from India Today, Business Person of the Year by The Economic Times, South Asian of the Year from Time Asia and membership in the World Economic Forum's Dream Cabinet.\", 'Naidu chaired the National IT Panel under the National Democratic Alliance (India) (NDA) government and was described as one of the \"hidden seven\" working wonders of the world by Profit (Oracle Corporation\\'s monthly magazine).', 'Naidu was offered an honorary professorship by US business school - the Kellogg School of Management in 2000.', 'He was the Chairman of National Task Force on Micro-irrigation from Government of India, Ministry of Agriculture in 2003.', 'He was the head of 13-member Committee of Chief Ministers to promote digital payment systems and financial inclusion in India which was constituted by federal government in 2016']\n"
          ]
        }
      ]
    },
    {
      "cell_type": "code",
      "source": [
        "# We want our model to not get confused by seeing the same word with different cases like one starting with capital and one without and interpret both differently. \n",
        "# So we convert all words into the lower case to avoid redundancy in the token list\n",
        "import re\n",
        "text = re.sub(r\"[^a-zA-Z0-9]\", \" \", text.lower())\n",
        "words = text.split()\n",
        "print(words)"
      ],
      "metadata": {
        "colab": {
          "base_uri": "https://localhost:8080/"
        },
        "id": "AfqdX2NZ5teY",
        "outputId": "8cb27afa-6e17-4da7-daaa-c5b4bacae35b"
      },
      "execution_count": 22,
      "outputs": [
        {
          "output_type": "stream",
          "name": "stdout",
          "text": [
            "['nara', 'chandrababu', 'naidu', 'is', 'an', 'indian', 'politician', 'and', 'current', 'leader', 'of', 'opposition', 'in', 'the', 'andhra', 'pradesh', 'legislative', 'assembly', 'he', 'is', 'a', 'former', 'chief', 'minister', 'of', 'andhra', 'pradesh', 'serving', 'from', '2014', 'to', '2019', 'he', 'is', 'the', 'first', 'chief', 'minister', 'of', 'andhra', 'pradesh', 'after', 'it', 'was', 'divided', 'previously', 'he', 'served', 'as', 'the', 'chief', 'minister', 'of', 'andhra', 'pradesh', 'from', '1995', 'to', '2004', 'before', 'the', 'state', 's', 'division', 'and', 'as', 'the', 'leader', 'of', 'the', 'opposition', 'in', 'the', 'united', 'andhra', 'pradesh', 'legislative', 'assembly', 'from', '2004', 'to', '2014', 'he', 'is', 'the', 'national', 'president', 'of', 'the', 'telugu', 'desam', 'party', 'tdp', 'and', 'the', 'longest', 'serving', 'chief', 'minister', '14', 'years', 'in', 'office', 'of', 'andhra', 'pradesh', 'naidu', 'has', 'won', 'a', 'number', 'of', 'awards', 'including', 'it', 'indian', 'of', 'the', 'millennium', 'from', 'india', 'today', 'business', 'person', 'of', 'the', 'year', 'by', 'the', 'economic', 'times', 'south', 'asian', 'of', 'the', 'year', 'from', 'time', 'asia', 'and', 'membership', 'in', 'the', 'world', 'economic', 'forum', 's', 'dream', 'cabinet', 'naidu', 'chaired', 'the', 'national', 'it', 'panel', 'under', 'the', 'national', 'democratic', 'alliance', 'india', 'nda', 'government', 'and', 'was', 'described', 'as', 'one', 'of', 'the', 'hidden', 'seven', 'working', 'wonders', 'of', 'the', 'world', 'by', 'profit', 'oracle', 'corporation', 's', 'monthly', 'magazine', 'naidu', 'was', 'offered', 'an', 'honorary', 'professorship', 'by', 'us', 'business', 'school', 'the', 'kellogg', 'school', 'of', 'management', 'in', '2000', 'he', 'was', 'the', 'chairman', 'of', 'national', 'task', 'force', 'on', 'micro', 'irrigation', 'from', 'government', 'of', 'india', 'ministry', 'of', 'agriculture', 'in', '2003', 'he', 'was', 'the', 'head', 'of', '13', 'member', 'committee', 'of', 'chief', 'ministers', 'to', 'promote', 'digital', 'payment', 'systems', 'and', 'financial', 'inclusion', 'in', 'india', 'which', 'was', 'constituted', 'by', 'federal', 'government', 'in', '2016']\n"
          ]
        }
      ]
    },
    {
      "cell_type": "code",
      "source": [
        "# When we use the features from a text to model, we will encounter a lot of noise. \n",
        "# These are the stop words like the, he, her, etc… which don’t help us and, just be removed before processing for cleaner processing inside the model. \n",
        "# With NLTK we can see all the stop words available in the English language.\n",
        "\n",
        "from nltk.corpus import stopwords\n",
        "# Remove stop words\n",
        "words = [w for w in words if w not in stopwords.words(\"english\")]\n",
        "print(words)"
      ],
      "metadata": {
        "colab": {
          "base_uri": "https://localhost:8080/"
        },
        "id": "lXirvoe65ths",
        "outputId": "a68cc8c8-f62f-4491-9714-d9c14d80308b"
      },
      "execution_count": 23,
      "outputs": [
        {
          "output_type": "stream",
          "name": "stdout",
          "text": [
            "['nara', 'chandrababu', 'naidu', 'indian', 'politician', 'current', 'leader', 'opposition', 'andhra', 'pradesh', 'legislative', 'assembly', 'former', 'chief', 'minister', 'andhra', 'pradesh', 'serving', '2014', '2019', 'first', 'chief', 'minister', 'andhra', 'pradesh', 'divided', 'previously', 'served', 'chief', 'minister', 'andhra', 'pradesh', '1995', '2004', 'state', 'division', 'leader', 'opposition', 'united', 'andhra', 'pradesh', 'legislative', 'assembly', '2004', '2014', 'national', 'president', 'telugu', 'desam', 'party', 'tdp', 'longest', 'serving', 'chief', 'minister', '14', 'years', 'office', 'andhra', 'pradesh', 'naidu', 'number', 'awards', 'including', 'indian', 'millennium', 'india', 'today', 'business', 'person', 'year', 'economic', 'times', 'south', 'asian', 'year', 'time', 'asia', 'membership', 'world', 'economic', 'forum', 'dream', 'cabinet', 'naidu', 'chaired', 'national', 'panel', 'national', 'democratic', 'alliance', 'india', 'nda', 'government', 'described', 'one', 'hidden', 'seven', 'working', 'wonders', 'world', 'profit', 'oracle', 'corporation', 'monthly', 'magazine', 'naidu', 'offered', 'honorary', 'professorship', 'us', 'business', 'school', 'kellogg', 'school', 'management', '2000', 'chairman', 'national', 'task', 'force', 'micro', 'irrigation', 'government', 'india', 'ministry', 'agriculture', '2003', 'head', '13', 'member', 'committee', 'chief', 'ministers', 'promote', 'digital', 'payment', 'systems', 'financial', 'inclusion', 'india', 'constituted', 'federal', 'government', '2016']\n"
          ]
        }
      ]
    },
    {
      "cell_type": "code",
      "source": [
        "# In our text we may find many words like playing, played, playfully, etc… which have a root word, play all of these convey the same meaning. \n",
        "# So we can just extract the root word and remove the rest. \n",
        "# Here the root word formed is called ‘stem’ and it is not necessarily that stem needs to exist and have a meaning. \n",
        "# Just by committing the suffix and prefix, we generate the stems.\n",
        "\n",
        "# NLTK provides us with PorterStemmer LancasterStemmer and SnowballStemmer packages.\n",
        "\n",
        "from nltk.stem.porter import PorterStemmer\n",
        "# Reduce words to their stems\n",
        "stemmed = [PorterStemmer().stem(w) for w in words]\n",
        "print(stemmed)"
      ],
      "metadata": {
        "colab": {
          "base_uri": "https://localhost:8080/"
        },
        "id": "XkCdlhwA6MgW",
        "outputId": "d233b185-0a47-42a9-d0d7-1bac8471f862"
      },
      "execution_count": 24,
      "outputs": [
        {
          "output_type": "stream",
          "name": "stdout",
          "text": [
            "['nara', 'chandrababu', 'naidu', 'indian', 'politician', 'current', 'leader', 'opposit', 'andhra', 'pradesh', 'legisl', 'assembl', 'former', 'chief', 'minist', 'andhra', 'pradesh', 'serv', '2014', '2019', 'first', 'chief', 'minist', 'andhra', 'pradesh', 'divid', 'previous', 'serv', 'chief', 'minist', 'andhra', 'pradesh', '1995', '2004', 'state', 'divis', 'leader', 'opposit', 'unit', 'andhra', 'pradesh', 'legisl', 'assembl', '2004', '2014', 'nation', 'presid', 'telugu', 'desam', 'parti', 'tdp', 'longest', 'serv', 'chief', 'minist', '14', 'year', 'offic', 'andhra', 'pradesh', 'naidu', 'number', 'award', 'includ', 'indian', 'millennium', 'india', 'today', 'busi', 'person', 'year', 'econom', 'time', 'south', 'asian', 'year', 'time', 'asia', 'membership', 'world', 'econom', 'forum', 'dream', 'cabinet', 'naidu', 'chair', 'nation', 'panel', 'nation', 'democrat', 'allianc', 'india', 'nda', 'govern', 'describ', 'one', 'hidden', 'seven', 'work', 'wonder', 'world', 'profit', 'oracl', 'corpor', 'monthli', 'magazin', 'naidu', 'offer', 'honorari', 'professorship', 'us', 'busi', 'school', 'kellogg', 'school', 'manag', '2000', 'chairman', 'nation', 'task', 'forc', 'micro', 'irrig', 'govern', 'india', 'ministri', 'agricultur', '2003', 'head', '13', 'member', 'committe', 'chief', 'minist', 'promot', 'digit', 'payment', 'system', 'financi', 'inclus', 'india', 'constitut', 'feder', 'govern', '2016']\n"
          ]
        }
      ]
    },
    {
      "cell_type": "code",
      "source": [
        "# We want to extract the base form of the word here. \n",
        "# The word extracted here is called Lemma and it is available in the dictionary. \n",
        "# We have the WordNet corpus and the lemma generated will be available in this corpus. \n",
        "# NLTK provides us with the WordNet Lemmatizer that makes use of the WordNet Database to lookup lemmas of words.\n",
        "\n",
        "from nltk.stem.wordnet import WordNetLemmatizer\n",
        "# Reduce words to their root form\n",
        "lemmed = [WordNetLemmatizer().lemmatize(w) for w in words]\n",
        "print(lemmed)\n",
        "\n",
        "## NOTE: Stemming is much faster than lemmatization as it doesn’t need to lookup in the dictionary and just follows the algorithm to generate the root"
      ],
      "metadata": {
        "colab": {
          "base_uri": "https://localhost:8080/"
        },
        "id": "WXuS2LET6MiJ",
        "outputId": "9f1b650f-4054-459e-b5fe-4be0c417fe08"
      },
      "execution_count": 25,
      "outputs": [
        {
          "output_type": "stream",
          "name": "stdout",
          "text": [
            "['nara', 'chandrababu', 'naidu', 'indian', 'politician', 'current', 'leader', 'opposition', 'andhra', 'pradesh', 'legislative', 'assembly', 'former', 'chief', 'minister', 'andhra', 'pradesh', 'serving', '2014', '2019', 'first', 'chief', 'minister', 'andhra', 'pradesh', 'divided', 'previously', 'served', 'chief', 'minister', 'andhra', 'pradesh', '1995', '2004', 'state', 'division', 'leader', 'opposition', 'united', 'andhra', 'pradesh', 'legislative', 'assembly', '2004', '2014', 'national', 'president', 'telugu', 'desam', 'party', 'tdp', 'longest', 'serving', 'chief', 'minister', '14', 'year', 'office', 'andhra', 'pradesh', 'naidu', 'number', 'award', 'including', 'indian', 'millennium', 'india', 'today', 'business', 'person', 'year', 'economic', 'time', 'south', 'asian', 'year', 'time', 'asia', 'membership', 'world', 'economic', 'forum', 'dream', 'cabinet', 'naidu', 'chaired', 'national', 'panel', 'national', 'democratic', 'alliance', 'india', 'nda', 'government', 'described', 'one', 'hidden', 'seven', 'working', 'wonder', 'world', 'profit', 'oracle', 'corporation', 'monthly', 'magazine', 'naidu', 'offered', 'honorary', 'professorship', 'u', 'business', 'school', 'kellogg', 'school', 'management', '2000', 'chairman', 'national', 'task', 'force', 'micro', 'irrigation', 'government', 'india', 'ministry', 'agriculture', '2003', 'head', '13', 'member', 'committee', 'chief', 'minister', 'promote', 'digital', 'payment', 'system', 'financial', 'inclusion', 'india', 'constituted', 'federal', 'government', '2016']\n"
          ]
        }
      ]
    },
    {
      "cell_type": "code",
      "source": [
        "# Part of Speech tagging is used in text processing to avoid confusion between two same words that have different meanings. \n",
        "# With respect to the definition and context, we give each word a particular tag and process them. \n",
        "# Two Steps are used here:\n",
        "\n",
        "# Tokenize text (word_tokenize).\n",
        "# Apply the pos_tag from NLTK to the above step.\n",
        "\n",
        "# removing stop words from wordList.\n",
        "stop_words = set(stopwords.words('english'))\n",
        "\n",
        "\n",
        "# Using a Tagger. Which is part-of-speech\n",
        "# tagger or POS-tagger.\n",
        "wordsList = [w for w in wordsList if not w in stop_words]\n",
        "tagged = nltk.pos_tag(wordsList)\n",
        "print(tagged)"
      ],
      "metadata": {
        "colab": {
          "base_uri": "https://localhost:8080/"
        },
        "id": "lxjW23k56Mla",
        "outputId": "f480ee4b-1921-4736-de82-45fcfc431757"
      },
      "execution_count": 26,
      "outputs": [
        {
          "output_type": "stream",
          "name": "stdout",
          "text": [
            "[('Nara', 'NNP'), ('Chandrababu', 'NNP'), ('Naidu', 'NNP'), ('Indian', 'NNP'), ('politician', 'JJ'), ('current', 'JJ'), ('leader', 'NN'), ('opposition', 'NN'), ('Andhra', 'NNP'), ('Pradesh', 'NNP'), ('Legislative', 'NNP'), ('Assembly', 'NNP'), ('.', '.'), ('He', 'PRP'), ('former', 'JJ'), ('Chief', 'NNP'), ('Minister', 'NNP'), ('Andhra', 'NNP'), ('Pradesh', 'NNP'), (',', ','), ('serving', 'VBG'), ('2014', 'CD'), ('2019', 'CD'), ('.', '.'), ('He', 'PRP'), ('first', 'RB'), ('Chief', 'NNP'), ('Minister', 'NNP'), ('Andhra', 'NNP'), ('Pradesh', 'NNP'), ('divided', 'VBD'), ('.', '.'), ('Previously', 'RB'), (',', ','), ('served', 'VBD'), ('Chief', 'JJ'), ('Minister', 'NNP'), ('Andhra', 'NNP'), ('Pradesh', 'NNP'), ('1995', 'CD'), ('2004', 'CD'), (',', ','), ('state', 'NN'), (\"'s\", 'POS'), ('division', 'NN'), (',', ','), ('leader', 'NN'), ('opposition', 'NN'), ('united', 'VBD'), ('Andhra', 'NNP'), ('Pradesh', 'NNP'), ('Legislative', 'NNP'), ('Assembly', 'NNP'), ('2004', 'CD'), ('2014', 'CD'), ('.', '.'), ('He', 'PRP'), ('National', 'NNP'), ('President', 'NNP'), ('Telugu', 'NNP'), ('Desam', 'NNP'), ('Party', 'NNP'), ('(', '('), ('TDP', 'NNP'), (')', ')'), (',', ','), ('longest-serving', 'JJ'), ('Chief', 'NNP'), ('Minister', 'NNP'), ('(', '('), ('14', 'CD'), ('years', 'NNS'), ('office', 'NN'), (')', ')'), ('Andhra', 'NNP'), ('Pradesh', 'NNP'), ('.', '.'), ('Naidu', 'NNP'), ('number', 'NN'), ('awards', 'NNS'), (',', ','), ('including', 'VBG'), ('IT', 'NNP'), ('Indian', 'JJ'), ('Millennium', 'NNP'), ('India', 'NNP'), ('Today', 'NNP'), (',', ','), ('Business', 'NNP'), ('Person', 'NNP'), ('Year', 'NNP'), ('The', 'DT'), ('Economic', 'NNP'), ('Times', 'NNP'), (',', ','), ('South', 'NNP'), ('Asian', 'JJ'), ('Year', 'NN'), ('Time', 'NNP'), ('Asia', 'NNP'), ('membership', 'NN'), ('World', 'NNP'), ('Economic', 'NNP'), ('Forum', 'NNP'), (\"'s\", 'POS'), ('Dream', 'NNP'), ('Cabinet', 'NNP'), ('.', '.'), ('Naidu', 'NNP'), ('chaired', 'VBD'), ('National', 'NNP'), ('IT', 'NNP'), ('Panel', 'NNP'), ('National', 'NNP'), ('Democratic', 'JJ'), ('Alliance', 'NNP'), ('(', '('), ('India', 'NNP'), (')', ')'), ('(', '('), ('NDA', 'NNP'), (')', ')'), ('government', 'NN'), ('described', 'VBD'), ('one', 'CD'), ('``', '``'), ('hidden', 'JJ'), ('seven', 'CD'), (\"''\", \"''\"), ('working', 'VBG'), ('wonders', 'NNS'), ('world', 'NN'), ('Profit', 'NN'), ('(', '('), ('Oracle', 'NNP'), ('Corporation', 'NNP'), (\"'s\", 'POS'), ('monthly', 'JJ'), ('magazine', 'NN'), (')', ')'), ('.', '.'), ('Naidu', 'NNP'), ('offered', 'VBD'), ('honorary', 'JJ'), ('professorship', 'NN'), ('US', 'NNP'), ('business', 'NN'), ('school', 'NN'), ('-', ':'), ('Kellogg', 'NNP'), ('School', 'NNP'), ('Management', 'NNP'), ('2000', 'CD'), ('.', '.'), ('He', 'PRP'), ('Chairman', 'NNP'), ('National', 'NNP'), ('Task', 'NNP'), ('Force', 'NNP'), ('Micro-irrigation', 'JJ'), ('Government', 'NNP'), ('India', 'NNP'), (',', ','), ('Ministry', 'NNP'), ('Agriculture', 'NNP'), ('2003', 'CD'), ('.', '.'), ('He', 'PRP'), ('head', 'VBD'), ('13-member', 'JJ'), ('Committee', 'NNP'), ('Chief', 'NNP'), ('Ministers', 'NNP'), ('promote', 'VBP'), ('digital', 'JJ'), ('payment', 'NN'), ('systems', 'NNS'), ('financial', 'JJ'), ('inclusion', 'NN'), ('India', 'NNP'), ('constituted', 'VBD'), ('federal', 'JJ'), ('government', 'NN'), ('2016', 'CD')]\n"
          ]
        }
      ]
    },
    {
      "cell_type": "code",
      "source": [
        ""
      ],
      "metadata": {
        "id": "fx_y4BMz6Mod"
      },
      "execution_count": 26,
      "outputs": []
    },
    {
      "cell_type": "code",
      "source": [
        ""
      ],
      "metadata": {
        "id": "_bcxihdV6Mus"
      },
      "execution_count": 26,
      "outputs": []
    },
    {
      "cell_type": "code",
      "source": [
        ""
      ],
      "metadata": {
        "id": "GK9BP5eP6Mxl"
      },
      "execution_count": 26,
      "outputs": []
    },
    {
      "cell_type": "code",
      "source": [
        ""
      ],
      "metadata": {
        "id": "RIOuY1tr5tk2"
      },
      "execution_count": 26,
      "outputs": []
    }
  ]
}